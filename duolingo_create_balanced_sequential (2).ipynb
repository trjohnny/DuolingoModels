{
  "cells": [
    {
      "cell_type": "code",
      "execution_count": null,
      "metadata": {
        "id": "MjyEWrQIQjoH"
      },
      "outputs": [],
      "source": [
        "import pandas \n",
        "import numpy as np \n",
        "import gc\n",
        "import random\n",
        "from collections import OrderedDict\n",
        "\n",
        "MINIMUM_ROWS_PER_SEQUENCE = 6 # this includes the output\n",
        "MAXIMUM_TIMESTAMP_ERROR = 60*5 # number of seconds of error \n",
        "SEQUENCE_WITH_PADDING_LEN = 20 # we handle multiple sizes"
      ]
    },
    {
      "cell_type": "code",
      "execution_count": null,
      "metadata": {
        "id": "7_g_bqrJSeiG",
        "colab": {
          "base_uri": "https://localhost:8080/"
        },
        "outputId": "fbcdb92f-487b-4e94-d948-2dddeab290af"
      },
      "outputs": [
        {
          "output_type": "stream",
          "name": "stdout",
          "text": [
            "Drive already mounted at /content/drive; to attempt to forcibly remount, call drive.mount(\"/content/drive\", force_remount=True).\n",
            "Archive:  /content/dataverse_files.zip\n",
            "  inflating: opensource_dataset_difficulty.tsv.7z  \n",
            "  inflating: opensource_dataset_forgetting_curve.tsv.7z  \n",
            "  inflating: opensource_dataset_raw.tsv.7z  \n"
          ]
        }
      ],
      "source": [
        "# mount it\n",
        "from google.colab import drive\n",
        "drive.mount('/content/drive')\n",
        "# copy it there\n",
        "!cp /content/drive/MyDrive/duolingo/dataverse_files.zip /content/\n",
        "!unzip /content/dataverse_files.zip"
      ]
    },
    {
      "cell_type": "code",
      "source": [
        "!7z e opensource_dataset_difficulty.tsv.7z"
      ],
      "metadata": {
        "colab": {
          "base_uri": "https://localhost:8080/"
        },
        "id": "0dHcWAMAOiJZ",
        "outputId": "73d771fa-bee4-49f4-bff5-183b99d77a1c"
      },
      "execution_count": null,
      "outputs": [
        {
          "output_type": "stream",
          "name": "stdout",
          "text": [
            "\n",
            "7-Zip [64] 16.02 : Copyright (c) 1999-2016 Igor Pavlov : 2016-05-21\n",
            "p7zip Version 16.02 (locale=en_US.UTF-8,Utf16=on,HugeFiles=on,64 bits,2 CPUs Intel(R) Xeon(R) CPU @ 2.20GHz (406F0),ASM,AES-NI)\n",
            "\n",
            "Scanning the drive for archives:\n",
            "  0M Scan\b\b\b\b\b\b\b\b\b         \b\b\b\b\b\b\b\b\b1 file, 126353 bytes (124 KiB)\n",
            "\n",
            "Extracting archive: opensource_dataset_difficulty.tsv.7z\n",
            "--\n",
            "Path = opensource_dataset_difficulty.tsv.7z\n",
            "Type = 7z\n",
            "Physical Size = 126353\n",
            "Headers Size = 170\n",
            "Method = LZMA2:19\n",
            "Solid = -\n",
            "Blocks = 1\n",
            "\n",
            "  0%\b\b\b\b    \b\b\b\bEverything is Ok\n",
            "\n",
            "Size:       478930\n",
            "Compressed: 126353\n"
          ]
        }
      ]
    },
    {
      "cell_type": "code",
      "source": [
        "difficulty = dataset = pandas.read_table(\"/content/opensource_dataset_difficulty.tsv\")"
      ],
      "metadata": {
        "id": "GmuKNOYYRiSy"
      },
      "execution_count": null,
      "outputs": []
    },
    {
      "cell_type": "code",
      "source": [
        "difficulty"
      ],
      "metadata": {
        "id": "WHLUDSANRta0"
      },
      "execution_count": null,
      "outputs": []
    },
    {
      "cell_type": "code",
      "execution_count": null,
      "metadata": {
        "colab": {
          "base_uri": "https://localhost:8080/",
          "height": 206
        },
        "id": "rP1PAHqYYt7O",
        "outputId": "fd3ca75f-5637-44f0-cc93-3bf817e40226"
      },
      "outputs": [
        {
          "output_type": "execute_result",
          "data": {
            "text/plain": [
              "        u           w  i t_history r_history  delta_t  r\n",
              "0  2c5a94       claim  3       0,1       0,0        1  1\n",
              "1  2c5a94   affiliate  3       0,1       0,0        1  1\n",
              "2  2c5a94      likely  2         0         0        1  1\n",
              "3  2c5a94     dessert  3       0,1       0,0        1  1\n",
              "4  2c5a94  invaluable  3       0,1       0,0        1  1"
            ],
            "text/html": [
              "\n",
              "  <div id=\"df-a99322b5-01b0-42ab-a7dd-c6bd3a6c3a53\">\n",
              "    <div class=\"colab-df-container\">\n",
              "      <div>\n",
              "<style scoped>\n",
              "    .dataframe tbody tr th:only-of-type {\n",
              "        vertical-align: middle;\n",
              "    }\n",
              "\n",
              "    .dataframe tbody tr th {\n",
              "        vertical-align: top;\n",
              "    }\n",
              "\n",
              "    .dataframe thead th {\n",
              "        text-align: right;\n",
              "    }\n",
              "</style>\n",
              "<table border=\"1\" class=\"dataframe\">\n",
              "  <thead>\n",
              "    <tr style=\"text-align: right;\">\n",
              "      <th></th>\n",
              "      <th>u</th>\n",
              "      <th>w</th>\n",
              "      <th>i</th>\n",
              "      <th>t_history</th>\n",
              "      <th>r_history</th>\n",
              "      <th>delta_t</th>\n",
              "      <th>r</th>\n",
              "    </tr>\n",
              "  </thead>\n",
              "  <tbody>\n",
              "    <tr>\n",
              "      <th>0</th>\n",
              "      <td>2c5a94</td>\n",
              "      <td>claim</td>\n",
              "      <td>3</td>\n",
              "      <td>0,1</td>\n",
              "      <td>0,0</td>\n",
              "      <td>1</td>\n",
              "      <td>1</td>\n",
              "    </tr>\n",
              "    <tr>\n",
              "      <th>1</th>\n",
              "      <td>2c5a94</td>\n",
              "      <td>affiliate</td>\n",
              "      <td>3</td>\n",
              "      <td>0,1</td>\n",
              "      <td>0,0</td>\n",
              "      <td>1</td>\n",
              "      <td>1</td>\n",
              "    </tr>\n",
              "    <tr>\n",
              "      <th>2</th>\n",
              "      <td>2c5a94</td>\n",
              "      <td>likely</td>\n",
              "      <td>2</td>\n",
              "      <td>0</td>\n",
              "      <td>0</td>\n",
              "      <td>1</td>\n",
              "      <td>1</td>\n",
              "    </tr>\n",
              "    <tr>\n",
              "      <th>3</th>\n",
              "      <td>2c5a94</td>\n",
              "      <td>dessert</td>\n",
              "      <td>3</td>\n",
              "      <td>0,1</td>\n",
              "      <td>0,0</td>\n",
              "      <td>1</td>\n",
              "      <td>1</td>\n",
              "    </tr>\n",
              "    <tr>\n",
              "      <th>4</th>\n",
              "      <td>2c5a94</td>\n",
              "      <td>invaluable</td>\n",
              "      <td>3</td>\n",
              "      <td>0,1</td>\n",
              "      <td>0,0</td>\n",
              "      <td>1</td>\n",
              "      <td>1</td>\n",
              "    </tr>\n",
              "  </tbody>\n",
              "</table>\n",
              "</div>\n",
              "      <button class=\"colab-df-convert\" onclick=\"convertToInteractive('df-a99322b5-01b0-42ab-a7dd-c6bd3a6c3a53')\"\n",
              "              title=\"Convert this dataframe to an interactive table.\"\n",
              "              style=\"display:none;\">\n",
              "        \n",
              "  <svg xmlns=\"http://www.w3.org/2000/svg\" height=\"24px\"viewBox=\"0 0 24 24\"\n",
              "       width=\"24px\">\n",
              "    <path d=\"M0 0h24v24H0V0z\" fill=\"none\"/>\n",
              "    <path d=\"M18.56 5.44l.94 2.06.94-2.06 2.06-.94-2.06-.94-.94-2.06-.94 2.06-2.06.94zm-11 1L8.5 8.5l.94-2.06 2.06-.94-2.06-.94L8.5 2.5l-.94 2.06-2.06.94zm10 10l.94 2.06.94-2.06 2.06-.94-2.06-.94-.94-2.06-.94 2.06-2.06.94z\"/><path d=\"M17.41 7.96l-1.37-1.37c-.4-.4-.92-.59-1.43-.59-.52 0-1.04.2-1.43.59L10.3 9.45l-7.72 7.72c-.78.78-.78 2.05 0 2.83L4 21.41c.39.39.9.59 1.41.59.51 0 1.02-.2 1.41-.59l7.78-7.78 2.81-2.81c.8-.78.8-2.07 0-2.86zM5.41 20L4 18.59l7.72-7.72 1.47 1.35L5.41 20z\"/>\n",
              "  </svg>\n",
              "      </button>\n",
              "      \n",
              "  <style>\n",
              "    .colab-df-container {\n",
              "      display:flex;\n",
              "      flex-wrap:wrap;\n",
              "      gap: 12px;\n",
              "    }\n",
              "\n",
              "    .colab-df-convert {\n",
              "      background-color: #E8F0FE;\n",
              "      border: none;\n",
              "      border-radius: 50%;\n",
              "      cursor: pointer;\n",
              "      display: none;\n",
              "      fill: #1967D2;\n",
              "      height: 32px;\n",
              "      padding: 0 0 0 0;\n",
              "      width: 32px;\n",
              "    }\n",
              "\n",
              "    .colab-df-convert:hover {\n",
              "      background-color: #E2EBFA;\n",
              "      box-shadow: 0px 1px 2px rgba(60, 64, 67, 0.3), 0px 1px 3px 1px rgba(60, 64, 67, 0.15);\n",
              "      fill: #174EA6;\n",
              "    }\n",
              "\n",
              "    [theme=dark] .colab-df-convert {\n",
              "      background-color: #3B4455;\n",
              "      fill: #D2E3FC;\n",
              "    }\n",
              "\n",
              "    [theme=dark] .colab-df-convert:hover {\n",
              "      background-color: #434B5C;\n",
              "      box-shadow: 0px 1px 3px 1px rgba(0, 0, 0, 0.15);\n",
              "      filter: drop-shadow(0px 1px 2px rgba(0, 0, 0, 0.3));\n",
              "      fill: #FFFFFF;\n",
              "    }\n",
              "  </style>\n",
              "\n",
              "      <script>\n",
              "        const buttonEl =\n",
              "          document.querySelector('#df-a99322b5-01b0-42ab-a7dd-c6bd3a6c3a53 button.colab-df-convert');\n",
              "        buttonEl.style.display =\n",
              "          google.colab.kernel.accessAllowed ? 'block' : 'none';\n",
              "\n",
              "        async function convertToInteractive(key) {\n",
              "          const element = document.querySelector('#df-a99322b5-01b0-42ab-a7dd-c6bd3a6c3a53');\n",
              "          const dataTable =\n",
              "            await google.colab.kernel.invokeFunction('convertToInteractive',\n",
              "                                                     [key], {});\n",
              "          if (!dataTable) return;\n",
              "\n",
              "          const docLinkHtml = 'Like what you see? Visit the ' +\n",
              "            '<a target=\"_blank\" href=https://colab.research.google.com/notebooks/data_table.ipynb>data table notebook</a>'\n",
              "            + ' to learn more about interactive tables.';\n",
              "          element.innerHTML = '';\n",
              "          dataTable['output_type'] = 'display_data';\n",
              "          await google.colab.output.renderOutput(dataTable, element);\n",
              "          const docLink = document.createElement('div');\n",
              "          docLink.innerHTML = docLinkHtml;\n",
              "          element.appendChild(docLink);\n",
              "        }\n",
              "      </script>\n",
              "    </div>\n",
              "  </div>\n",
              "  "
            ]
          },
          "metadata": {},
          "execution_count": 34
        }
      ],
      "source": [
        "dataset = pandas.read_table(\"/content/opensource_dataset.tsv\", nrows=1000000)\n",
        "dataset.head()"
      ]
    },
    {
      "cell_type": "code",
      "source": [
        "diff_map = {}\n",
        "\n",
        "for i, row in difficulty.iterrows():\n",
        "  diff_map[row['w']] = row['d']"
      ],
      "metadata": {
        "id": "7eCZDOieVJrm"
      },
      "execution_count": null,
      "outputs": []
    },
    {
      "cell_type": "code",
      "source": [
        "dataset['d'] = dataset['w']"
      ],
      "metadata": {
        "id": "sxiYDw22R23w"
      },
      "execution_count": null,
      "outputs": []
    },
    {
      "cell_type": "code",
      "source": [
        "dataset['d'] = dataset['d'].map(diff_map)"
      ],
      "metadata": {
        "id": "8iys4tG2QNWe"
      },
      "execution_count": null,
      "outputs": []
    },
    {
      "cell_type": "code",
      "execution_count": null,
      "metadata": {
        "id": "G80Oh9LmS5wx"
      },
      "outputs": [],
      "source": [
        "# The dataset is highly unbalanced\n",
        "# to fix this we are going to do some data augmentation later\n",
        "# for now, let's just remove some columns\n",
        "\n",
        "del dataset[\"lexeme_string\"]\n",
        "del dataset[\"learning_language\"]\n",
        "del dataset[\"ui_language\"]"
      ]
    },
    {
      "cell_type": "code",
      "execution_count": null,
      "metadata": {
        "colab": {
          "base_uri": "https://localhost:8080/"
        },
        "id": "IQ9H-Q1GXQ5e",
        "outputId": "fb5d7f9d-e018-421e-df98-25b385de5dab"
      },
      "outputs": [
        {
          "output_type": "execute_result",
          "data": {
            "text/plain": [
              "1819"
            ]
          },
          "metadata": {},
          "execution_count": 36
        }
      ],
      "source": [
        "# we now group by (user_id, lexeme_id) and assign to each class a set ordered by timestamp\n",
        " \n",
        "dataset = dataset.sort_values(['user_id','lexeme_id', 'timestamp']) #.groupby(['user_id', 'lexeme_id']) \n"
      ]
    },
    {
      "cell_type": "code",
      "source": [
        "dataset.sort_values(['u', 'w', 't_history']).head()"
      ],
      "metadata": {
        "colab": {
          "base_uri": "https://localhost:8080/",
          "height": 270
        },
        "id": "pqkW9ycpa4Yg",
        "outputId": "e29749d5-5de5-46f5-f843-8627cb1b8b15"
      },
      "execution_count": null,
      "outputs": [
        {
          "output_type": "execute_result",
          "data": {
            "text/plain": [
              "             u               w   i  \\\n",
              "491677  0001d9          abrupt  16   \n",
              "491653  0001d9        abundant  21   \n",
              "491648  0001d9     accommodate  23   \n",
              "491670  0001d9  accommodations  25   \n",
              "491673  0001d9       ambitious   6   \n",
              "\n",
              "                                              t_history  \\\n",
              "491677                   0,1,1,1,1,1,1,1,3,6,1,3,4,7,17   \n",
              "491653          0,1,3,1,3,1,3,5,2,1,1,3,1,3,5,1,3,5,1,3   \n",
              "491648      0,1,1,1,1,1,1,1,1,1,1,1,3,1,3,1,3,1,1,1,1,1   \n",
              "491670  0,1,1,2,4,2,4,1,3,1,3,1,1,3,1,1,1,1,1,3,1,1,1,1   \n",
              "491673                                        0,1,1,2,1   \n",
              "\n",
              "                                              r_history  delta_t  r    d  \n",
              "491677                    0,0,0,1,0,0,1,1,1,0,1,1,1,1,0        1  1  8.0  \n",
              "491653          0,1,0,1,0,1,1,0,0,0,1,0,1,1,0,1,1,0,1,1        4  1  5.0  \n",
              "491648      0,0,0,0,0,0,0,0,0,0,0,1,0,1,0,1,0,0,0,0,0,0        1  1  7.0  \n",
              "491670  0,0,1,1,0,1,0,1,0,1,0,0,1,0,0,0,0,0,1,0,0,0,0,1        3  0  3.0  \n",
              "491673                                        0,0,1,0,1        2  1  4.0  "
            ],
            "text/html": [
              "\n",
              "  <div id=\"df-bb8ec55d-d7fb-4e83-94e1-5be484787d46\">\n",
              "    <div class=\"colab-df-container\">\n",
              "      <div>\n",
              "<style scoped>\n",
              "    .dataframe tbody tr th:only-of-type {\n",
              "        vertical-align: middle;\n",
              "    }\n",
              "\n",
              "    .dataframe tbody tr th {\n",
              "        vertical-align: top;\n",
              "    }\n",
              "\n",
              "    .dataframe thead th {\n",
              "        text-align: right;\n",
              "    }\n",
              "</style>\n",
              "<table border=\"1\" class=\"dataframe\">\n",
              "  <thead>\n",
              "    <tr style=\"text-align: right;\">\n",
              "      <th></th>\n",
              "      <th>u</th>\n",
              "      <th>w</th>\n",
              "      <th>i</th>\n",
              "      <th>t_history</th>\n",
              "      <th>r_history</th>\n",
              "      <th>delta_t</th>\n",
              "      <th>r</th>\n",
              "      <th>d</th>\n",
              "    </tr>\n",
              "  </thead>\n",
              "  <tbody>\n",
              "    <tr>\n",
              "      <th>491677</th>\n",
              "      <td>0001d9</td>\n",
              "      <td>abrupt</td>\n",
              "      <td>16</td>\n",
              "      <td>0,1,1,1,1,1,1,1,3,6,1,3,4,7,17</td>\n",
              "      <td>0,0,0,1,0,0,1,1,1,0,1,1,1,1,0</td>\n",
              "      <td>1</td>\n",
              "      <td>1</td>\n",
              "      <td>8.0</td>\n",
              "    </tr>\n",
              "    <tr>\n",
              "      <th>491653</th>\n",
              "      <td>0001d9</td>\n",
              "      <td>abundant</td>\n",
              "      <td>21</td>\n",
              "      <td>0,1,3,1,3,1,3,5,2,1,1,3,1,3,5,1,3,5,1,3</td>\n",
              "      <td>0,1,0,1,0,1,1,0,0,0,1,0,1,1,0,1,1,0,1,1</td>\n",
              "      <td>4</td>\n",
              "      <td>1</td>\n",
              "      <td>5.0</td>\n",
              "    </tr>\n",
              "    <tr>\n",
              "      <th>491648</th>\n",
              "      <td>0001d9</td>\n",
              "      <td>accommodate</td>\n",
              "      <td>23</td>\n",
              "      <td>0,1,1,1,1,1,1,1,1,1,1,1,3,1,3,1,3,1,1,1,1,1</td>\n",
              "      <td>0,0,0,0,0,0,0,0,0,0,0,1,0,1,0,1,0,0,0,0,0,0</td>\n",
              "      <td>1</td>\n",
              "      <td>1</td>\n",
              "      <td>7.0</td>\n",
              "    </tr>\n",
              "    <tr>\n",
              "      <th>491670</th>\n",
              "      <td>0001d9</td>\n",
              "      <td>accommodations</td>\n",
              "      <td>25</td>\n",
              "      <td>0,1,1,2,4,2,4,1,3,1,3,1,1,3,1,1,1,1,1,3,1,1,1,1</td>\n",
              "      <td>0,0,1,1,0,1,0,1,0,1,0,0,1,0,0,0,0,0,1,0,0,0,0,1</td>\n",
              "      <td>3</td>\n",
              "      <td>0</td>\n",
              "      <td>3.0</td>\n",
              "    </tr>\n",
              "    <tr>\n",
              "      <th>491673</th>\n",
              "      <td>0001d9</td>\n",
              "      <td>ambitious</td>\n",
              "      <td>6</td>\n",
              "      <td>0,1,1,2,1</td>\n",
              "      <td>0,0,1,0,1</td>\n",
              "      <td>2</td>\n",
              "      <td>1</td>\n",
              "      <td>4.0</td>\n",
              "    </tr>\n",
              "  </tbody>\n",
              "</table>\n",
              "</div>\n",
              "      <button class=\"colab-df-convert\" onclick=\"convertToInteractive('df-bb8ec55d-d7fb-4e83-94e1-5be484787d46')\"\n",
              "              title=\"Convert this dataframe to an interactive table.\"\n",
              "              style=\"display:none;\">\n",
              "        \n",
              "  <svg xmlns=\"http://www.w3.org/2000/svg\" height=\"24px\"viewBox=\"0 0 24 24\"\n",
              "       width=\"24px\">\n",
              "    <path d=\"M0 0h24v24H0V0z\" fill=\"none\"/>\n",
              "    <path d=\"M18.56 5.44l.94 2.06.94-2.06 2.06-.94-2.06-.94-.94-2.06-.94 2.06-2.06.94zm-11 1L8.5 8.5l.94-2.06 2.06-.94-2.06-.94L8.5 2.5l-.94 2.06-2.06.94zm10 10l.94 2.06.94-2.06 2.06-.94-2.06-.94-.94-2.06-.94 2.06-2.06.94z\"/><path d=\"M17.41 7.96l-1.37-1.37c-.4-.4-.92-.59-1.43-.59-.52 0-1.04.2-1.43.59L10.3 9.45l-7.72 7.72c-.78.78-.78 2.05 0 2.83L4 21.41c.39.39.9.59 1.41.59.51 0 1.02-.2 1.41-.59l7.78-7.78 2.81-2.81c.8-.78.8-2.07 0-2.86zM5.41 20L4 18.59l7.72-7.72 1.47 1.35L5.41 20z\"/>\n",
              "  </svg>\n",
              "      </button>\n",
              "      \n",
              "  <style>\n",
              "    .colab-df-container {\n",
              "      display:flex;\n",
              "      flex-wrap:wrap;\n",
              "      gap: 12px;\n",
              "    }\n",
              "\n",
              "    .colab-df-convert {\n",
              "      background-color: #E8F0FE;\n",
              "      border: none;\n",
              "      border-radius: 50%;\n",
              "      cursor: pointer;\n",
              "      display: none;\n",
              "      fill: #1967D2;\n",
              "      height: 32px;\n",
              "      padding: 0 0 0 0;\n",
              "      width: 32px;\n",
              "    }\n",
              "\n",
              "    .colab-df-convert:hover {\n",
              "      background-color: #E2EBFA;\n",
              "      box-shadow: 0px 1px 2px rgba(60, 64, 67, 0.3), 0px 1px 3px 1px rgba(60, 64, 67, 0.15);\n",
              "      fill: #174EA6;\n",
              "    }\n",
              "\n",
              "    [theme=dark] .colab-df-convert {\n",
              "      background-color: #3B4455;\n",
              "      fill: #D2E3FC;\n",
              "    }\n",
              "\n",
              "    [theme=dark] .colab-df-convert:hover {\n",
              "      background-color: #434B5C;\n",
              "      box-shadow: 0px 1px 3px 1px rgba(0, 0, 0, 0.15);\n",
              "      filter: drop-shadow(0px 1px 2px rgba(0, 0, 0, 0.3));\n",
              "      fill: #FFFFFF;\n",
              "    }\n",
              "  </style>\n",
              "\n",
              "      <script>\n",
              "        const buttonEl =\n",
              "          document.querySelector('#df-bb8ec55d-d7fb-4e83-94e1-5be484787d46 button.colab-df-convert');\n",
              "        buttonEl.style.display =\n",
              "          google.colab.kernel.accessAllowed ? 'block' : 'none';\n",
              "\n",
              "        async function convertToInteractive(key) {\n",
              "          const element = document.querySelector('#df-bb8ec55d-d7fb-4e83-94e1-5be484787d46');\n",
              "          const dataTable =\n",
              "            await google.colab.kernel.invokeFunction('convertToInteractive',\n",
              "                                                     [key], {});\n",
              "          if (!dataTable) return;\n",
              "\n",
              "          const docLinkHtml = 'Like what you see? Visit the ' +\n",
              "            '<a target=\"_blank\" href=https://colab.research.google.com/notebooks/data_table.ipynb>data table notebook</a>'\n",
              "            + ' to learn more about interactive tables.';\n",
              "          element.innerHTML = '';\n",
              "          dataTable['output_type'] = 'display_data';\n",
              "          await google.colab.output.renderOutput(dataTable, element);\n",
              "          const docLink = document.createElement('div');\n",
              "          docLink.innerHTML = docLinkHtml;\n",
              "          element.appendChild(docLink);\n",
              "        }\n",
              "      </script>\n",
              "    </div>\n",
              "  </div>\n",
              "  "
            ]
          },
          "metadata": {},
          "execution_count": 26
        }
      ]
    },
    {
      "cell_type": "code",
      "source": [
        "data = []\n",
        "\n",
        "for i, row in dataset.iterrows():\n",
        "  if len(row['t_history'].split(',')) >= 6:\n",
        "    data.append(row)"
      ],
      "metadata": {
        "id": "7Bh6iYQvj2j0"
      },
      "execution_count": null,
      "outputs": []
    },
    {
      "cell_type": "code",
      "source": [
        "X = []\n",
        "Y = []\n",
        "diff = []\n",
        "\n",
        "for line in data:\n",
        "  r_history = line['r_history'].split(',') \n",
        "  r_history.append(line['r'])\n",
        "  t_history = line['t_history'].split(',')\n",
        "  t_history.append(line['delta_t'])\n",
        "  row = np.column_stack((r_history, t_history))\n",
        "  seq = []\n",
        "\n",
        "  while len(seq) < SEQUENCE_WITH_PADDING_LEN-len(row):\n",
        "    seq.append(np.array([-1, -1]))\n",
        "  \n",
        "  i = max(0, len(row)-SEQUENCE_WITH_PADDING_LEN)\n",
        "  while i < len(row):\n",
        "    seq.append([old_prob, row[i][1]])\n",
        "    old_prob = row[i][0]\n",
        "    i += 1\n",
        "  \n",
        "  X.append(np.array(seq, dtype='float32'))\n",
        "  Y.append(old_prob)\n",
        "\n",
        "X = np.array(X, dtype='float32')\n",
        "Y = np.array(Y, dtype='float32')"
      ],
      "metadata": {
        "id": "4cVAB-oCl1bh"
      },
      "execution_count": null,
      "outputs": []
    },
    {
      "cell_type": "code",
      "source": [
        "from sklearn.utils import shuffle\n",
        "X, Y = shuffle(X, Y, random_state=0)\n",
        "\n",
        "np.save('processed_data.npy', X)\n",
        "np.save('processed_labels.npy', Y)\n",
        "\n",
        "! gzip /content/processed_data.npy\n",
        "! gzip /content/processed_labels.npy"
      ],
      "metadata": {
        "id": "3oUZsl6xuuVh"
      },
      "execution_count": null,
      "outputs": []
    },
    {
      "cell_type": "code",
      "execution_count": null,
      "metadata": {
        "colab": {
          "base_uri": "https://localhost:8080/"
        },
        "id": "4BZVfwzM7N64",
        "outputId": "79f25028-20ad-49cc-8486-046a91e05689"
      },
      "outputs": [
        {
          "data": {
            "text/plain": [
              "0"
            ]
          },
          "execution_count": 6,
          "metadata": {},
          "output_type": "execute_result"
        }
      ],
      "source": [
        "done = (-1, -1) \n",
        "arr_dataset = []\n",
        "for index, row in dataset.iterrows():\n",
        "    if (row[\"user_id\"], row[\"lexeme_id\"]) != done:\n",
        "        if len(arr_dataset) > 0 and len(arr_dataset[-1]) < MINIMUM_ROWS_PER_SEQUENCE:\n",
        "            del arr_dataset[-1]\n",
        "\n",
        "        # TO REMOVE\n",
        "        if len(arr_dataset) > 60000:\n",
        "            break\n",
        "\n",
        "        arr_dataset.append([]) \n",
        "        done=(row[\"user_id\"], row[\"lexeme_id\"])\n",
        "    arr_dataset[-1].append(row.tolist())  \n",
        "\n",
        "del dataset \n",
        "gc.collect()"
      ]
    },
    {
      "cell_type": "code",
      "execution_count": null,
      "metadata": {
        "id": "mvJPUl6iSGWM"
      },
      "outputs": [],
      "source": [
        "# full sequences\n",
        "augmented_data = []\n",
        "labels = []\n",
        "\n",
        "for row in arr_dataset:\n",
        "  start = 0\n",
        "  seq = []\n",
        "  old_prob = row[0][6] / row[0][5]\n",
        "  seq.append([0.5, 0, row[0][5]])\n",
        "  i = 0\n",
        "\n",
        "  while len(seq) < SEQUENCE_WITH_PADDING_LEN-len(row):\n",
        "    seq.append([-1, -1, -1])\n",
        "  \n",
        "  while i < len(row):\n",
        "    seq.append([old_prob, row[i][2] / 86400, row[i][7]])\n",
        "    old_prob = row[i][0]\n",
        "    i += 1\n",
        "    \n",
        "  augmented_data.append(np.array(seq, dtype='float32'))\n",
        "  labels.append(row[len(row)-1][0])"
      ]
    },
    {
      "cell_type": "code",
      "execution_count": null,
      "metadata": {
        "id": "cUXpAtAc0Xoz"
      },
      "outputs": [],
      "source": [
        "augmented_data = []\n",
        "labels = []\n",
        "\n",
        "for row in arr_dataset:\n",
        "  start = 0\n",
        "  \n",
        "  for end in range(MINIMUM_ROWS_PER_SEQUENCE, len(row)+1):\n",
        "    seq = []\n",
        "    label = []\n",
        "    old_prob = row[start][6] / row[start][5]\n",
        "    seq.append([0.5, 0, row[start][5]])\n",
        "    label.append(old_prob)\n",
        "\n",
        "    for i in range(start, end):\n",
        "\n",
        "      seq.append([old_prob, row[i][2] / 86400, row[i][7]])\n",
        "      old_prob = row[i][0]\n",
        "      label.append(old_prob)\n",
        "    \n",
        "    augmented_data.append(np.array(seq, dtype='float32'))\n",
        "    labels.append(np.array(label, dtype='float32'))\n",
        "    start += 1\n",
        "\n",
        "# balancing dataset ---\n",
        "augmented_data = np.array(augmented_data, dtype='float32')\n",
        "labels = np.array(labels, dtype='float32')\n",
        "\n",
        "from sklearn.utils import shuffle\n",
        "augmented_data, labels = shuffle(augmented_data, labels, random_state=0)\n",
        "\n",
        "ones_x = augmented_data[np.where(labels[:,6] == 1)][:len(augmented_data[np.where(labels[:,6] != 1)])]\n",
        "ones_y = labels[np.where(labels[:,6] == 1)][:len(augmented_data[np.where(labels[:,6] != 1)])]\n",
        "\n",
        "augmented_data = np.delete(augmented_data, np.where(labels[:,6] == 1), axis=0)\n",
        "labels = np.delete(labels, np.where(labels[:,6] == 1), axis=0)\n",
        "\n",
        "augmented_data = np.concatenate((augmented_data, ones_x), axis=0)\n",
        "labels = np.concatenate((labels, ones_y), axis=0)\n",
        "\n",
        "augmented_data, labels = shuffle(augmented_data, labels, random_state=0)\n",
        "# ---\n",
        "\n",
        "\n",
        "np.save('processed_data.npy', augmented_data)\n",
        "np.save('processed_labels.npy', labels)\n",
        "\n",
        "! gzip /content/processed_data.npy\n",
        "! gzip /content/processed_labels.npy"
      ]
    },
    {
      "cell_type": "code",
      "execution_count": null,
      "metadata": {
        "id": "FUI0FTo2RPRJ"
      },
      "outputs": [],
      "source": [
        "print(np.array(arr_dataset[:100]))\n",
        "# TO REMOVE, for now we handle just 0/1\n",
        "\n",
        "'''\n",
        "for i in range(len(arr_dataset)):\n",
        "    for j in range(len(arr_dataset[i])):\n",
        "        arr_dataset[i][j][0] = (1 if arr_dataset[i][j][0] == 1 else 0)\n",
        "'''\n",
        "#count = sum([(1 if row[5][0] == 0.0 else 0) for row in arr_dataset])\n",
        "#print(count)"
      ]
    },
    {
      "cell_type": "code",
      "execution_count": null,
      "metadata": {
        "colab": {
          "base_uri": "https://localhost:8080/"
        },
        "id": "CWy7Sob4db-8",
        "outputId": "8af98bd0-b8b9-4dad-d3b6-e6d210dbf7dd"
      },
      "outputs": [
        {
          "name": "stdout",
          "output_type": "stream",
          "text": [
            "0 / 30001\n",
            "10000 / 30001\n",
            "20000 / 30001\n",
            "30000 / 30001\n"
          ]
        },
        {
          "data": {
            "text/plain": [
              "0"
            ]
          },
          "execution_count": 8,
          "metadata": {},
          "output_type": "execute_result"
        }
      ],
      "source": [
        "# we now generate more data using the sliding window technique\n",
        "augmented_data = []\n",
        "dataset = []\n",
        "index = 0\n",
        "for row in arr_dataset:\n",
        "    if index % 10000 == 0:\n",
        "        print(str(index), \"/\", str(len(arr_dataset)))\n",
        "    index += 1\n",
        "    for end_index in range(MINIMUM_ROWS_PER_SEQUENCE, len(row)+1):\n",
        "        new_seq = []\n",
        "        start_index = end_index-SEQUENCE_WITH_PADDING_LEN if end_index > SEQUENCE_WITH_PADDING_LEN else 0\n",
        "        for i in range(start_index, end_index):\n",
        "            if i > start_index and abs((row[i][1]-row[i][2])-row[i-1][1]) > MAXIMUM_TIMESTAMP_ERROR:\n",
        "                break\n",
        "            new_seq.append(row[i])\n",
        "        if len(new_seq) >= MINIMUM_ROWS_PER_SEQUENCE:\n",
        "            while len(new_seq) < SEQUENCE_WITH_PADDING_LEN:\n",
        "                copied = [-1 for i in range(len(new_seq[0]))] \n",
        "                new_seq.append(copied)\n",
        "            dataset.append(new_seq)\n",
        "\n",
        "random.shuffle(dataset)\n",
        "del augmented_data\n",
        "gc.collect()"
      ]
    },
    {
      "cell_type": "code",
      "execution_count": null,
      "metadata": {
        "colab": {
          "background_save": true
        },
        "id": "Q_ea9YJClR_M"
      },
      "outputs": [],
      "source": [
        "dd = dict()\n",
        "for i in dataset:\n",
        "  if len(i) not in dd:\n",
        "    dd[len(i)] = 0\n",
        "  dd[len(i)] += 1\n",
        "\n",
        "\n",
        "for i in range(6, 100):\n",
        "    print(str(i), \": \", dd[i])"
      ]
    },
    {
      "cell_type": "code",
      "execution_count": null,
      "metadata": {
        "id": "YYqcHeteeXy7"
      },
      "outputs": [],
      "source": [
        "temporary = [] \n",
        "\n",
        "total_1 = sum([(row[-1][0]) for row in dataset])\n",
        "total_0 = len(dataset)-total_1\n",
        "total_1 = 0\n",
        "\n",
        "for row in dataset:\n",
        "    if row[-1][0] != 1:\n",
        "        temporary.append(row)\n",
        "    #else:\n",
        "    elif total_1 < total_0:\n",
        "        temporary.append(row)\n",
        "        total_1 += 1\n",
        "\n",
        "# we now use numpy instead of lists\n",
        "# lists were useful for fast appending, but now we can continue with numpy\n",
        "\n",
        "random.shuffle(dataset)\n",
        "dataset = np.array(temporary)\n",
        "del temporary\n",
        "gc.collect()"
      ]
    },
    {
      "cell_type": "code",
      "execution_count": null,
      "metadata": {
        "id": "8IWzHn4IS2k4"
      },
      "outputs": [],
      "source": [
        "count_0 = 0\n",
        "count_1 = 0\n",
        "for i in range(len(dataset)):\n",
        "    if dataset[i][-1][0] == '0.0':\n",
        "        count_0 += 1\n",
        "    elif dataset[i][-1][0] == '1.0':\n",
        "        count_1 += 1\n",
        "\n",
        "print(len(dataset), \"\\n\")\n",
        "print(count_0, \"\\n\")\n",
        "print(count_1, \"\\n\")"
      ]
    },
    {
      "cell_type": "code",
      "execution_count": null,
      "metadata": {
        "id": "2nM25oP_57x8"
      },
      "outputs": [],
      "source": [
        "np.save('processed.npy', to_export)"
      ]
    },
    {
      "cell_type": "code",
      "execution_count": null,
      "metadata": {
        "id": "vM2wu2w_re-9"
      },
      "outputs": [],
      "source": [
        "\n",
        "# we do not need anymore some columns: timestamp, user, word \n",
        "dataset_to_save = np.delete(dataset, [1,3,4], axis=2) \n",
        "np.random.shuffle(dataset_to_save)\n",
        "np.save('processed.npy', dataset_to_save)"
      ]
    },
    {
      "cell_type": "code",
      "execution_count": null,
      "metadata": {
        "id": "zqGHzDxG9aeC"
      },
      "outputs": [],
      "source": [
        "np.random.shuffle(dataset_to_save)"
      ]
    },
    {
      "cell_type": "code",
      "execution_count": null,
      "metadata": {
        "id": "M0N__-o7DTou"
      },
      "outputs": [],
      "source": [
        "! gzip /content/processed.npy"
      ]
    },
    {
      "cell_type": "code",
      "execution_count": null,
      "metadata": {
        "id": "aA_TlDLxFJl7"
      },
      "outputs": [],
      "source": [
        "#newtest = np.load('processed.npy')"
      ]
    }
  ],
  "metadata": {
    "colab": {
      "provenance": []
    },
    "kernelspec": {
      "display_name": "Python 3",
      "name": "python3"
    },
    "language_info": {
      "name": "python"
    }
  },
  "nbformat": 4,
  "nbformat_minor": 0
}